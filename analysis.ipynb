{
 "cells": [
  {
   "cell_type": "code",
   "execution_count": 72,
   "metadata": {},
   "outputs": [],
   "source": [
    "from datasets import load_dataset\n",
    "from metrics import exact_match, calculate_positional_divergence\n",
    "from scipy.stats import pearsonr\n"
   ]
  },
  {
   "cell_type": "markdown",
   "metadata": {},
   "source": [
    "# News"
   ]
  },
  {
   "cell_type": "code",
   "execution_count": 75,
   "metadata": {},
   "outputs": [
    {
     "name": "stderr",
     "output_type": "stream",
     "text": [
      "Found cached dataset json (/home/yinhong/.cache/huggingface/datasets/json/default-c6058db0efc681fd/0.0.0/e347ab1c932092252e717ff3f949105a4dd28b27e842dd53157d2f72e276c2e4)\n"
     ]
    },
    {
     "data": {
      "application/vnd.jupyter.widget-view+json": {
       "model_id": "95749bf48bd9451d96a85fa744c37337",
       "version_major": 2,
       "version_minor": 0
      },
      "text/plain": [
       "  0%|          | 0/1 [00:00<?, ?it/s]"
      ]
     },
     "metadata": {},
     "output_type": "display_data"
    },
    {
     "name": "stderr",
     "output_type": "stream",
     "text": [
      "Loading cached processed dataset at /home/yinhong/.cache/huggingface/datasets/json/default-c6058db0efc681fd/0.0.0/e347ab1c932092252e717ff3f949105a4dd28b27e842dd53157d2f72e276c2e4/cache-6c02e425b4d3aac1.arrow\n"
     ]
    }
   ],
   "source": [
    "news_data = load_dataset('json', data_files=\"news_annotations.jsonl\")['train']\n",
    "\n",
    "def filter_nan(datapoint):\n",
    "    for k, v in datapoint.items():\n",
    "        if v == None:\n",
    "            return False\n",
    "    return True\n",
    "\n",
    "news_data = news_data.filter(filter_nan)\n"
   ]
  },
  {
   "cell_type": "code",
   "execution_count": 102,
   "metadata": {},
   "outputs": [
    {
     "name": "stdout",
     "output_type": "stream",
     "text": [
      "Corr(Human, Exact match)= 0.22739878199237906 0.0008523712423231125\n",
      "Corr(Human, Pos. Div.)= 0.20758824753077437 0.0023829481926786584\n"
     ]
    }
   ],
   "source": [
    " \n",
    "pred_discourse = news_data['discourse_v1'] + news_data['discourse_v2']\n",
    "ref_discourse = news_data['discourse'] + news_data['discourse']\n",
    "human_scores = [s[1] for s in news_data['gpt_scores']] + [s[2] for s in news_data['gpt_scores']]\n",
    "\n",
    "\n",
    "def evaluate_corr(pred_discourse, ref_discourse, num_class=8, num_bins_default=5):\n",
    "    acc_list = []\n",
    "    pos_div_list = []\n",
    "    for pred, ref in zip(pred_discourse, ref_discourse):\n",
    "        acc_list.append(exact_match(preds=pred, refs=ref))\n",
    "        pos_div_list.append(calculate_positional_divergence(\n",
    "                                predictions=[pred], \n",
    "                                references=[ref], \n",
    "                                num_class=num_class, \n",
    "                                num_bins_default=num_bins_default, \n",
    "                                return_normalized_score=True\n",
    "                                )\n",
    "                            )\n",
    "    correlation_coefficient, p_value = pearsonr(human_scores, acc_list)\n",
    "    print('Corr(Human, Exact match)=', correlation_coefficient, p_value)\n",
    "    correlation_coefficient, p_value = pearsonr(human_scores, pos_div_list)\n",
    "    print('Corr(Human, Pos. Div.)=', correlation_coefficient, p_value)\n"
   ]
  },
  {
   "cell_type": "code",
   "execution_count": 87,
   "metadata": {},
   "outputs": [
    {
     "data": {
      "text/plain": [
       "(212, 212)"
      ]
     },
     "execution_count": 87,
     "metadata": {},
     "output_type": "execute_result"
    }
   ],
   "source": [
    "len(human_scores), len(ref_discourse)"
   ]
  },
  {
   "cell_type": "code",
   "execution_count": 88,
   "metadata": {},
   "outputs": [
    {
     "data": {
      "text/plain": [
       "(0.22739878199237906, 0.0008523712423231125)"
      ]
     },
     "execution_count": 88,
     "metadata": {},
     "output_type": "execute_result"
    }
   ],
   "source": [
    "correlation_coefficient, p_value = pearsonr(human_scores, acc_list)\n",
    "correlation_coefficient, p_value"
   ]
  },
  {
   "cell_type": "code",
   "execution_count": 101,
   "metadata": {},
   "outputs": [
    {
     "data": {
      "text/plain": [
       "(0.20758824753077437, 0.0023829481926786584)"
      ]
     },
     "execution_count": 101,
     "metadata": {},
     "output_type": "execute_result"
    }
   ],
   "source": [
    "correlation_coefficient, p_value = pearsonr(human_scores, pos_div_list)\n",
    "correlation_coefficient, p_value"
   ]
  },
  {
   "cell_type": "code",
   "execution_count": null,
   "metadata": {},
   "outputs": [],
   "source": []
  }
 ],
 "metadata": {
  "kernelspec": {
   "display_name": "rl",
   "language": "python",
   "name": "python3"
  },
  "language_info": {
   "codemirror_mode": {
    "name": "ipython",
    "version": 3
   },
   "file_extension": ".py",
   "mimetype": "text/x-python",
   "name": "python",
   "nbconvert_exporter": "python",
   "pygments_lexer": "ipython3",
   "version": "3.11.5"
  }
 },
 "nbformat": 4,
 "nbformat_minor": 2
}
