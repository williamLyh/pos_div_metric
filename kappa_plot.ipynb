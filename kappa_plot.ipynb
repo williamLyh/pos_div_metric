{
 "cells": [
  {
   "cell_type": "code",
   "execution_count": 52,
   "metadata": {},
   "outputs": [],
   "source": [
    "import random\n",
    "import pickle\n",
    "import numpy as np\n",
    "from datasets import load_dataset, concatenate_datasets\n",
    "import os\n",
    "from chatgpt_eval import get_chatgpt_eval_news, get_chatgpt_eval_lfqa, get_chatgpt_eval_recipe\n",
    "\n",
    "\n",
    "def shuffle_two_lists(l1, l2, indices=None, random_seed=42):\n",
    "    random.seed(random_seed)\n",
    "    if not indices:\n",
    "        indices = list(range(len(l1)))\n",
    "        random.shuffle(indices)    \n",
    "    if len(indices) != len(l1):\n",
    "        raise ValueError(\"The length of indices should be the same as the length of the lists\")\n",
    "    if len(l1) != len(l2):\n",
    "        raise ValueError(\"The length of the two lists should be the same\")\n",
    "    shuffled_list1 = [l1[i] for i in indices]\n",
    "    shuffled_list2 = [l2[i] for i in indices]\n",
    "    return shuffled_list1, shuffled_list2\n",
    "\n",
    "# def add_shuffled_v1(datapoint):\n",
    "#     sents, labels = datapoint['output_sentences'], datapoint['discourse']\n",
    "#     shuffled_sents, shuffled_labels = shuffle_two_lists(sents, labels, random_seed=43)\n",
    "#     datapoint['output_sentences_v1'] = shuffled_sents\n",
    "#     datapoint['output_v1'] = ' '.join(shuffled_sents)\n",
    "#     datapoint['discourse_v1'] = shuffled_labels\n",
    "#     return datapoint\n",
    "def add_shuffled_v1(datapoint):\n",
    "    sents, labels = datapoint['output_sentences'], datapoint['discourse']\n",
    "    random.seed(None)\n",
    "    # random_shuffle_bin_number = random.randint(1, 2)\n",
    "    # random_shuffle_bin_number = min(len(labels), random_shuffle_bin_number)\n",
    "    random_shuffle_bin_number = random.randint(1, int(len(labels)/2))\n",
    "    random_shuffle_bin_number = max(2, random_shuffle_bin_number)\n",
    "    random_shuffle_bin_number = min(6, random_shuffle_bin_number)\n",
    "    # print(random_shuffle_bin_number)\n",
    "    sents_len = len(sents)\n",
    "    bin_cnt, bin_values = np.histogram(range(sents_len), bins=random_shuffle_bin_number)\n",
    "    bin_with_idx = [[] for _ in range(random_shuffle_bin_number)]\n",
    "    for idx in range(sents_len):\n",
    "        bin_idx = np.digitize(idx, bin_values[:-1])-1\n",
    "        bin_with_idx[bin_idx].append(idx)\n",
    "    shuffled_indices = []\n",
    "    for bin in bin_with_idx:\n",
    "        random.shuffle(bin)\n",
    "        shuffled_indices += bin\n",
    "    shuffled_sents, shuffled_labels = shuffle_two_lists(sents, labels, shuffled_indices, random_seed=51)\n",
    "    datapoint['output_sentences_v1'] = shuffled_sents\n",
    "    datapoint['output_v1'] = ' '.join(shuffled_sents)\n",
    "    datapoint['discourse_v1'] = shuffled_labels\n",
    "    return datapoint\n",
    "\n",
    "\n",
    "def add_shuffled_v2(datapoint):\n",
    "    sents, labels = datapoint['output_sentences'], datapoint['discourse']\n",
    "    random.seed(None)\n",
    "    # random_shuffle_bin_number = random.randint(1, 2)\n",
    "    # random_shuffle_bin_number = min(len(labels), random_shuffle_bin_number)\n",
    "    random_shuffle_bin_number = random.randint(1, int(len(labels)/2))\n",
    "    random_shuffle_bin_number = max(2, random_shuffle_bin_number)\n",
    "    random_shuffle_bin_number = min(6, random_shuffle_bin_number)\n",
    "    # print(random_shuffle_bin_number)\n",
    "    sents_len = len(sents)\n",
    "    bin_cnt, bin_values = np.histogram(range(sents_len), bins=random_shuffle_bin_number)\n",
    "    bin_with_idx = [[] for _ in range(random_shuffle_bin_number)]\n",
    "    for idx in range(sents_len):\n",
    "        bin_idx = np.digitize(idx, bin_values[:-1])-1\n",
    "        bin_with_idx[bin_idx].append(idx)\n",
    "    shuffled_indices = []\n",
    "    for bin in bin_with_idx:\n",
    "        random.shuffle(bin)\n",
    "        shuffled_indices += bin\n",
    "    shuffled_sents, shuffled_labels = shuffle_two_lists(sents, labels, shuffled_indices, random_seed=32)\n",
    "    datapoint['output_sentences_v2'] = shuffled_sents\n",
    "    datapoint['output_v2'] = ' '.join(shuffled_sents)\n",
    "    datapoint['discourse_v2'] = shuffled_labels\n",
    "    return datapoint\n",
    "\n",
    "def shuffle_variation(datapoint):\n",
    "    variations = [datapoint['output_v1'], datapoint['output_v2']]\n",
    "    indice = list(range(len(variations)))\n",
    "    random.shuffle(indice)\n",
    "    variations = [variations[i] for i in indice]\n",
    "    datapoint['output_shuffled_1'] = variations[0]\n",
    "    datapoint['output_shuffled_2'] = variations[1]\n",
    "    datapoint['random_indice'] = indice\n",
    "    return datapoint\n"
   ]
  },
  {
   "cell_type": "code",
   "execution_count": 46,
   "metadata": {},
   "outputs": [],
   "source": [
    "from metrics import calculate_positional_divergence\n",
    "from sklearn.metrics import cohen_kappa_score\n",
    "from collections import Counter\n",
    "from evaluate import load\n",
    "import evaluate\n",
    "\n",
    "\n",
    "def get_kappa_with_gpt(data, num_class, N):\n",
    "    human_preference = []\n",
    "    for row in data['gpt_scores']:\n",
    "        if row[0] > row[1]:\n",
    "            human_preference.append(1)\n",
    "        elif row[0] == row[1]:\n",
    "            human_preference.append(0)\n",
    "        else:\n",
    "            human_preference.append(2)\n",
    "    print(\"GPT score ratio: \",Counter(human_preference))\n",
    "\n",
    "    pdd_kappa_list = []\n",
    "    for bin_num in range(1,N):\n",
    "        pd_preference = []\n",
    "        pdd_1, pdd_2 = [], []\n",
    "        for d0, d1, d2, r in zip(data['discourse'], data['discourse_v1'], data['discourse_v2'], data['random_indice']):\n",
    "            pd1 = calculate_positional_divergence(\n",
    "                predictions=[d1],\n",
    "                references=[d0],\n",
    "                num_class=num_class,\n",
    "                num_bins_default=bin_num,\n",
    "                return_normalized_score=True, \n",
    "                return_tensor=False\n",
    "                )\n",
    "            pd2 = calculate_positional_divergence(\n",
    "                predictions=[d2],\n",
    "                references=[d0],\n",
    "                num_class=num_class,\n",
    "                num_bins_default=bin_num,\n",
    "                return_normalized_score=True, \n",
    "                return_tensor=False\n",
    "                )\n",
    "            # print(pd1,pd2)\n",
    "            if r[0] == 0:\n",
    "                if pd1 > pd2:\n",
    "                    pd_preference.append(1)\n",
    "                elif pd1 == pd2:\n",
    "                    pd_preference.append(0)\n",
    "                else:\n",
    "                    pd_preference.append(2)\n",
    "            else:\n",
    "                if pd1 > pd2:\n",
    "                    pd_preference.append(2)\n",
    "                elif pd1 == pd2:\n",
    "                    pd_preference.append(0)\n",
    "                else:\n",
    "                    pd_preference.append(1)\n",
    "\n",
    "        pd_corr = cohen_kappa_score(human_preference, pd_preference)\n",
    "        pdd_kappa_list.append(pd_corr)\n",
    "\n",
    "    # Exact match preference\n",
    "    from metrics import exact_match\n",
    "    exact_match_preference = []\n",
    "    for d0, d1, d2, r in zip(data['discourse'], data['discourse_v1'], data['discourse_v2'], data['random_indice']):\n",
    "        acc1 = exact_match(preds=d1, refs=d0)\n",
    "        acc2 = exact_match(preds=d2, refs=d0)\n",
    "        if r[0] == 0:\n",
    "            if acc1 > acc2:\n",
    "                exact_match_preference.append(1)\n",
    "            elif acc1 == acc2:\n",
    "                exact_match_preference.append(0)\n",
    "            else:\n",
    "                exact_match_preference.append(2)\n",
    "        else:\n",
    "            if acc1 > acc2:\n",
    "                exact_match_preference.append(2)\n",
    "            elif acc1 == acc2:\n",
    "                exact_match_preference.append(0)\n",
    "            else:\n",
    "                exact_match_preference.append(1)\n",
    "    pd_corr = cohen_kappa_score(human_preference, pd_preference)\n",
    "    acc_corr = cohen_kappa_score(human_preference, exact_match_preference)\n",
    "    print('acc kappa: ', acc_corr)\n",
    "\n",
    "    # bertscore\n",
    "    bertscore = load(\"bertscore\")\n",
    "    bertscore1 = bertscore.compute(predictions=data['output_v1'], references=data['output'], lang=\"en\")['precision']\n",
    "    bertscore2 = bertscore.compute(predictions=data['output_v2'], references=data['output'], lang=\"en\")['precision']\n",
    "\n",
    "    bertscore_preference = []\n",
    "    for bs1, bs2, r in zip(bertscore1, bertscore2, data['random_indice']):\n",
    "        if r[0] == 0:\n",
    "            if bs1 > bs2:\n",
    "                bertscore_preference.append(1)\n",
    "            elif bs1 == bs2:\n",
    "                bertscore_preference.append(0)\n",
    "            else:\n",
    "                bertscore_preference.append(2)\n",
    "        else:\n",
    "            if bs1 > bs2:\n",
    "                bertscore_preference.append(2)\n",
    "            elif bs1 == bs2:\n",
    "                bertscore_preference.append(0)\n",
    "            else:\n",
    "                bertscore_preference.append(1)\n",
    "    bert_kappa = cohen_kappa_score(human_preference, bertscore_preference)\n",
    "    print('bertscore kappa: ', bert_kappa)\n",
    "\n",
    "    # BLEU score\n",
    "    bleu = load(\"google_bleu\")\n",
    "    bleu_preference = []\n",
    "    for t0, t1, t2, r in zip(data['output'], data['output_v1'], data['output_v2'], data['random_indice']):\n",
    "        bs1 = bleu.compute(predictions=[t1], references=[t0])\n",
    "        bs2 = bleu.compute(predictions=[t2], references=[t0])\n",
    "        if r[0] == 0:\n",
    "            if bs1['google_bleu'] > bs2['google_bleu']:\n",
    "                bleu_preference.append(1)\n",
    "            elif bs1['google_bleu'] == bs2['google_bleu']:\n",
    "                bleu_preference.append(0)\n",
    "            else:\n",
    "                bleu_preference.append(2)\n",
    "        else:\n",
    "            if bs1['google_bleu'] > bs2['google_bleu']:\n",
    "                bleu_preference.append(2)\n",
    "            elif bs1['google_bleu'] == bs2['google_bleu']:\n",
    "                bleu_preference.append(0)\n",
    "            else:\n",
    "                bleu_preference.append(1)\n",
    "    bleu_kappa = cohen_kappa_score(human_preference, bleu_preference)\n",
    "    print('bleu kappa: ', bleu_kappa)\n",
    "\n",
    "    # ROUGE score\n",
    "    rouge = load(\"rouge\")\n",
    "    rouge_preference = []\n",
    "    for t0, t1, t2, r in zip(data['output'], data['output_v1'], data['output_v2'], data['random_indice']):\n",
    "        rouge1 = rouge.compute(predictions=[t1], references=[t0])['rouge2']\n",
    "        rouge2 = rouge.compute(predictions=[t2], references=[t0])['rouge2']\n",
    "        if r[0] == 0:\n",
    "            if rouge1 > rouge2:\n",
    "                rouge_preference.append(1)\n",
    "            elif rouge1 == rouge2:\n",
    "                rouge_preference.append(0)\n",
    "            else:\n",
    "                rouge_preference.append(2)\n",
    "        else:\n",
    "            if rouge1 > rouge2:\n",
    "                rouge_preference.append(2)\n",
    "            elif rouge1 == rouge2:\n",
    "                rouge_preference.append(0)\n",
    "            else:\n",
    "                rouge_preference.append(1)\n",
    "    rouge_kappa = cohen_kappa_score(human_preference, rouge_preference)\n",
    "    print('rouge kappa: ', rouge_kappa)\n",
    "\n",
    "    return pdd_kappa_list, acc_corr, bert_kappa, bleu_kappa, rouge_kappa\n"
   ]
  },
  {
   "cell_type": "markdown",
   "metadata": {},
   "source": [
    "# News data"
   ]
  },
  {
   "cell_type": "code",
   "execution_count": 53,
   "metadata": {},
   "outputs": [
    {
     "name": "stderr",
     "output_type": "stream",
     "text": [
      "WARNING:datasets.builder:Found cached dataset json (/home/yinhong/.cache/huggingface/datasets/json/default-ab67fa29ce5ee46d/0.0.0/e347ab1c932092252e717ff3f949105a4dd28b27e842dd53157d2f72e276c2e4)\n"
     ]
    },
    {
     "data": {
      "application/vnd.jupyter.widget-view+json": {
       "model_id": "7d226b5fdb5c4dfe8027ae4653490cd3",
       "version_major": 2,
       "version_minor": 0
      },
      "text/plain": [
       "  0%|          | 0/1 [00:00<?, ?it/s]"
      ]
     },
     "metadata": {},
     "output_type": "display_data"
    },
    {
     "name": "stderr",
     "output_type": "stream",
     "text": [
      "WARNING:datasets.builder:Found cached dataset json (/home/yinhong/.cache/huggingface/datasets/json/default-72aaa3659a2d83c6/0.0.0/e347ab1c932092252e717ff3f949105a4dd28b27e842dd53157d2f72e276c2e4)\n"
     ]
    },
    {
     "data": {
      "application/vnd.jupyter.widget-view+json": {
       "model_id": "84461e96cbfc452c982bc4320c1dd64e",
       "version_major": 2,
       "version_minor": 0
      },
      "text/plain": [
       "  0%|          | 0/1 [00:00<?, ?it/s]"
      ]
     },
     "metadata": {},
     "output_type": "display_data"
    },
    {
     "name": "stderr",
     "output_type": "stream",
     "text": [
      "WARNING:datasets.builder:Found cached dataset json (/home/yinhong/.cache/huggingface/datasets/json/default-2d672e7e79b12036/0.0.0/e347ab1c932092252e717ff3f949105a4dd28b27e842dd53157d2f72e276c2e4)\n"
     ]
    },
    {
     "data": {
      "application/vnd.jupyter.widget-view+json": {
       "model_id": "7fa8fd0783f241f5a07acd2a4216ed75",
       "version_major": 2,
       "version_minor": 0
      },
      "text/plain": [
       "  0%|          | 0/1 [00:00<?, ?it/s]"
      ]
     },
     "metadata": {},
     "output_type": "display_data"
    },
    {
     "name": "stderr",
     "output_type": "stream",
     "text": [
      "WARNING:datasets.arrow_dataset:Loading cached processed dataset at /home/yinhong/.cache/huggingface/datasets/json/default-ab67fa29ce5ee46d/0.0.0/e347ab1c932092252e717ff3f949105a4dd28b27e842dd53157d2f72e276c2e4/cache-ad2aed5fa064e3d9.arrow\n"
     ]
    }
   ],
   "source": [
    "from datasets import load_dataset, concatenate_datasets\n",
    "import os\n",
    "news_data_path = '/home/yinhong/Documents/source/discourse_rl/data/news_discourse_preprocessed'\n",
    "data_files = ['train_data.jsonl', 'valid_data.jsonl', 'test_data.jsonl']\n",
    "\n",
    "def load_news_data(data_files):\n",
    "    data = []\n",
    "    for file in data_files:\n",
    "        data.append(load_dataset('json', data_files=os.path.join(news_data_path, file))['train'])\n",
    "    data = concatenate_datasets(data)\n",
    "    return data\n",
    "\n",
    "news_data = load_news_data(data_files)\n",
    "\n",
    "def custom_filter(example):\n",
    "    # filter too long examples\n",
    "    discourse_len = len(example['discourse'])\n",
    "    if discourse_len < 40 and discourse_len > 5:\n",
    "        return True\n",
    "    else:\n",
    "        return False\n",
    "\n",
    "news_data = news_data.filter(custom_filter)\n",
    "selected_data = news_data.shuffle().select(range(300))"
   ]
  },
  {
   "cell_type": "code",
   "execution_count": 54,
   "metadata": {},
   "outputs": [
    {
     "data": {
      "application/vnd.jupyter.widget-view+json": {
       "model_id": "471a8cefe6f44386a1e08621df0ab2dc",
       "version_major": 2,
       "version_minor": 0
      },
      "text/plain": [
       "Map:   0%|          | 0/300 [00:00<?, ? examples/s]"
      ]
     },
     "metadata": {},
     "output_type": "display_data"
    },
    {
     "data": {
      "application/vnd.jupyter.widget-view+json": {
       "model_id": "a8f20bdf37594731ac0c09d0613010c3",
       "version_major": 2,
       "version_minor": 0
      },
      "text/plain": [
       "Map:   0%|          | 0/300 [00:00<?, ? examples/s]"
      ]
     },
     "metadata": {},
     "output_type": "display_data"
    },
    {
     "data": {
      "application/vnd.jupyter.widget-view+json": {
       "model_id": "3854fafc8982493f8d865e19a7048873",
       "version_major": 2,
       "version_minor": 0
      },
      "text/plain": [
       "Map:   0%|          | 0/300 [00:00<?, ? examples/s]"
      ]
     },
     "metadata": {},
     "output_type": "display_data"
    },
    {
     "data": {
      "application/vnd.jupyter.widget-view+json": {
       "model_id": "d3db64570ece4d9696cab9c445b4affa",
       "version_major": 2,
       "version_minor": 0
      },
      "text/plain": [
       "Map:   0%|          | 0/300 [00:00<?, ? examples/s]"
      ]
     },
     "metadata": {},
     "output_type": "display_data"
    }
   ],
   "source": [
    "def add_smooth_v0(datapoint):\n",
    "    datapoint['output_v0'] = datapoint['output'].replace('\\n', ' ')\n",
    "    return datapoint\n",
    "\n",
    "selected_data = selected_data.map(add_smooth_v0)\n",
    "selected_data = selected_data.map(add_shuffled_v1)\n",
    "selected_data = selected_data.map(add_shuffled_v2)\n",
    "selected_data = selected_data.add_column(\"index\", range(len(selected_data)))\n",
    "selected_data = selected_data.map(shuffle_variation)\n"
   ]
  },
  {
   "cell_type": "code",
   "execution_count": 55,
   "metadata": {},
   "outputs": [
    {
     "name": "stderr",
     "output_type": "stream",
     "text": [
      "100%|██████████| 300/300 [10:23<00:00,  2.08s/it]\n"
     ]
    },
    {
     "data": {
      "application/vnd.jupyter.widget-view+json": {
       "model_id": "3cb5b40176044849879b1159c09711b6",
       "version_major": 2,
       "version_minor": 0
      },
      "text/plain": [
       "Filter:   0%|          | 0/300 [00:00<?, ? examples/s]"
      ]
     },
     "metadata": {},
     "output_type": "display_data"
    }
   ],
   "source": [
    "from chatgpt_eval import get_chatgpt_eval_news\n",
    "from openai_utils import call_openai_chat_completion\n",
    "from jinja2 import Environment\n",
    "from textwrap import dedent\n",
    "import json\n",
    "import ast\n",
    "from tqdm import tqdm\n",
    "from datasets import load_dataset\n",
    "\n",
    "selected_data = get_chatgpt_eval_news(selected_data, engine='gpt-4')\n",
    "\n",
    "def filter_nan(datapoint):\n",
    "    for k, v in datapoint.items():\n",
    "        if v == None:\n",
    "            return False\n",
    "    return True\n",
    "\n",
    "selected_data = selected_data.filter(filter_nan)"
   ]
  },
  {
   "cell_type": "code",
   "execution_count": 10,
   "metadata": {},
   "outputs": [
    {
     "data": {
      "application/vnd.jupyter.widget-view+json": {
       "model_id": "142ca880f764407882c2681c08ea617d",
       "version_major": 2,
       "version_minor": 0
      },
      "text/plain": [
       "Creating json from Arrow format:   0%|          | 0/1 [00:00<?, ?ba/s]"
      ]
     },
     "metadata": {},
     "output_type": "display_data"
    },
    {
     "data": {
      "text/plain": [
       "8141276"
      ]
     },
     "execution_count": 10,
     "metadata": {},
     "output_type": "execute_result"
    }
   ],
   "source": [
    "selected_data.to_json(\"news_annotations.jsonl\", orient=\"records\", lines=True, index=False)"
   ]
  },
  {
   "cell_type": "code",
   "execution_count": null,
   "metadata": {},
   "outputs": [],
   "source": [
    "news_data = load_dataset('json', data_files=\"news_annotations.jsonl\")['train']"
   ]
  },
  {
   "cell_type": "code",
   "execution_count": 56,
   "metadata": {},
   "outputs": [
    {
     "name": "stdout",
     "output_type": "stream",
     "text": [
      "GPT score ratio:  Counter({1: 218, 2: 76, 0: 6})\n",
      "acc kappa:  0.16403601075645968\n"
     ]
    },
    {
     "name": "stderr",
     "output_type": "stream",
     "text": [
      "Some weights of RobertaModel were not initialized from the model checkpoint at roberta-large and are newly initialized: ['roberta.pooler.dense.weight', 'roberta.pooler.dense.bias']\n",
      "You should probably TRAIN this model on a down-stream task to be able to use it for predictions and inference.\n"
     ]
    },
    {
     "name": "stdout",
     "output_type": "stream",
     "text": [
      "bertscore kappa:  0.3408744833587122\n",
      "bleu kappa:  0.19419146346581606\n",
      "rouge kappa:  0.1571389550083896\n"
     ]
    }
   ],
   "source": [
    "news_pd_kappa_list, news_acc_corr, news_bertscore_kappa, news_bleu_kappa, news_rouge_kappa = \\\n",
    "    get_kappa_with_gpt(selected_data, num_class=8, N=40)"
   ]
  },
  {
   "cell_type": "code",
   "execution_count": 57,
   "metadata": {},
   "outputs": [
    {
     "data": {
      "text/plain": [
       "<matplotlib.lines.Line2D at 0x7f8bacb1fd10>"
      ]
     },
     "execution_count": 57,
     "metadata": {},
     "output_type": "execute_result"
    },
    {
     "data": {
      "image/png": "[encoded data removed]",
      "text/plain": [
       "<Figure size 640x480 with 1 Axes>"
      ]
     },
     "metadata": {},
     "output_type": "display_data"
    }
   ],
   "source": [
    "import matplotlib.pyplot as plt\n",
    "import numpy as np\n",
    "\n",
    "N=40\n",
    "\n",
    "x = np.array(range(1,N))\n",
    "y = np.array(news_pd_kappa_list) \n",
    "# y[0]=0.001\n",
    "\n",
    "smooth_x = np.linspace(1, N, 15)  # Adjust the range and number of points as needed\n",
    "smooth_y = np.interp(smooth_x, x, y)  # Use interpolation to get smooth values\n",
    "\n",
    "\n",
    "plt.scatter(x, y, marker='x', color='blue', alpha=0.7, s=20, lw=1)\n",
    "plt.plot(smooth_x, smooth_y, label='Smooth Curve', color='blue', lw=2)\n",
    "plt.axhline(y=news_acc_corr, color='r', linestyle='-',alpha=0.7, lw=2)\n",
    "plt.axhline(y=news_bertscore_kappa, color='g', linestyle='-',alpha=0.7, lw=2)\n",
    "plt.axhline(y=news_bleu_kappa, color='black', linestyle='-', alpha=0.7, lw=2)\n",
    "plt.axhline(y=news_rouge_kappa, color='orange', linestyle='-', alpha=0.7, lw=2)\n"
   ]
  },
  {
   "cell_type": "code",
   "execution_count": null,
   "metadata": {},
   "outputs": [],
   "source": [
    "from evaluate import load\n",
    "bertscore = load(\"bertscore\")\n",
    "\n",
    "bertscore_preference = []\n",
    "for t0, t1, t2 in zip(selected_data['output_v0'], selected_data['output_v1'], selected_data['output_v2']):\n",
    "    bs1 = bertscore.compute(predictions=[t1], references=[t0], lang=\"en\")\n",
    "    bs2 = bertscore.compute(predictions=[t2], references=[t0], lang=\"en\")\n",
    "    if bs1['f1'] > bs2['f1']:\n",
    "        bertscore_preference.append(1)\n",
    "    else:\n",
    "        bertscore_preference.append(2)\n",
    "\n",
    "bert_corr = cohen_kappa_score(human_preference, bertscore_preference)\n",
    "print('bertscore kappa: ', bert_corr)"
   ]
  },
  {
   "cell_type": "markdown",
   "metadata": {},
   "source": [
    "# LFQA"
   ]
  },
  {
   "cell_type": "code",
   "execution_count": 11,
   "metadata": {},
   "outputs": [
    {
     "name": "stderr",
     "output_type": "stream",
     "text": [
      "WARNING:datasets.builder:Found cached dataset json (/home/yinhong/.cache/huggingface/datasets/json/default-fc6720579f246ece/0.0.0/e347ab1c932092252e717ff3f949105a4dd28b27e842dd53157d2f72e276c2e4)\n"
     ]
    },
    {
     "data": {
      "application/vnd.jupyter.widget-view+json": {
       "model_id": "eed8d2798067424db92ab2802d66746d",
       "version_major": 2,
       "version_minor": 0
      },
      "text/plain": [
       "  0%|          | 0/1 [00:00<?, ?it/s]"
      ]
     },
     "metadata": {},
     "output_type": "display_data"
    },
    {
     "name": "stderr",
     "output_type": "stream",
     "text": [
      "WARNING:datasets.arrow_dataset:Loading cached processed dataset at /home/yinhong/.cache/huggingface/datasets/json/default-fc6720579f246ece/0.0.0/e347ab1c932092252e717ff3f949105a4dd28b27e842dd53157d2f72e276c2e4/cache-0430126f799be07a.arrow\n"
     ]
    }
   ],
   "source": [
    "from datasets import load_dataset\n",
    "data_path = '/home/yinhong/Documents/source/lfqa_discourse/data/role_annotation.jsonl'\n",
    "data = load_dataset('json', data_files=data_path)['train']\n",
    "\n",
    "def filter_model_answer(datapoint):\n",
    "    if datapoint['dataset'] == 'ELI5_MODEL':\n",
    "        return False\n",
    "    return True\n",
    "\n",
    "filtered_data = data.filter(filter_model_answer)\n",
    "filtered_data = filtered_data.shuffle().select(range(300))"
   ]
  },
  {
   "cell_type": "code",
   "execution_count": 12,
   "metadata": {},
   "outputs": [
    {
     "data": {
      "application/vnd.jupyter.widget-view+json": {
       "model_id": "3139423c2a824937a894e31809873c22",
       "version_major": 2,
       "version_minor": 0
      },
      "text/plain": [
       "Map:   0%|          | 0/300 [00:00<?, ? examples/s]"
      ]
     },
     "metadata": {},
     "output_type": "display_data"
    }
   ],
   "source": [
    "# get unique role\n",
    "from collections import Counter\n",
    "unique_role = set()\n",
    "role_buf = []\n",
    "for datapoint in filtered_data:\n",
    "    role_buf += datapoint['role_annotation']\n",
    "\n",
    "id2unique_role = list(set(role_buf))\n",
    "role2id = {role: idx for idx, role in enumerate(id2unique_role)}\n",
    "\n",
    "# convert role annotation to id\n",
    "def convert_role_to_id(datapoint):\n",
    "    role_annotation = datapoint['role_annotation']\n",
    "    role_ids = [role2id[role] for role in role_annotation]\n",
    "    datapoint['role_ids'] = role_ids\n",
    "    return datapoint\n",
    "\n",
    "filtered_data = filtered_data.map(convert_role_to_id)\n",
    "filtered_data = filtered_data.rename_column('question', 'input')\n",
    "filtered_data = filtered_data.rename_column('answer_paragraph', 'output')\n",
    "filtered_data = filtered_data.rename_column('answer_sentences', 'output_sentences')\n",
    "filtered_data = filtered_data.rename_column('role_ids', 'discourse')\n",
    "lfqa_data = filtered_data"
   ]
  },
  {
   "cell_type": "code",
   "execution_count": 13,
   "metadata": {},
   "outputs": [
    {
     "data": {
      "application/vnd.jupyter.widget-view+json": {
       "model_id": "2057f2a16ce9451d9eec87bf11585628",
       "version_major": 2,
       "version_minor": 0
      },
      "text/plain": [
       "Map:   0%|          | 0/300 [00:00<?, ? examples/s]"
      ]
     },
     "metadata": {},
     "output_type": "display_data"
    },
    {
     "data": {
      "application/vnd.jupyter.widget-view+json": {
       "model_id": "f4a4ca7cb95f44d7a04cc0dfa4ea3af1",
       "version_major": 2,
       "version_minor": 0
      },
      "text/plain": [
       "Map:   0%|          | 0/300 [00:00<?, ? examples/s]"
      ]
     },
     "metadata": {},
     "output_type": "display_data"
    },
    {
     "name": "stdout",
     "output_type": "stream",
     "text": [
      "2\n",
      "2\n",
      "2\n",
      "3\n",
      "2\n",
      "2\n",
      "2\n",
      "3\n",
      "3\n",
      "2\n",
      "2\n",
      "2\n",
      "2\n",
      "2\n",
      "2\n",
      "3\n",
      "2\n",
      "2\n",
      "2\n",
      "2\n",
      "2\n",
      "2\n",
      "2\n",
      "2\n",
      "2\n",
      "4\n",
      "2\n",
      "3\n",
      "2\n",
      "2\n",
      "3\n",
      "2\n",
      "3\n",
      "2\n",
      "2\n",
      "2\n",
      "2\n",
      "2\n",
      "2\n",
      "2\n",
      "2\n",
      "2\n",
      "2\n",
      "3\n",
      "2\n",
      "2\n",
      "2\n",
      "2\n",
      "2\n",
      "2\n",
      "3\n",
      "3\n",
      "2\n",
      "3\n",
      "2\n",
      "2\n",
      "3\n",
      "2\n",
      "2\n",
      "2\n",
      "3\n",
      "2\n",
      "2\n",
      "4\n",
      "2\n",
      "2\n",
      "2\n",
      "3\n",
      "2\n",
      "3\n",
      "5\n",
      "2\n",
      "2\n",
      "2\n",
      "2\n",
      "2\n",
      "3\n",
      "2\n",
      "2\n",
      "2\n",
      "2\n",
      "5\n",
      "2\n",
      "2\n",
      "2\n",
      "5\n",
      "2\n",
      "2\n",
      "6\n",
      "2\n",
      "2\n",
      "2\n",
      "3\n",
      "4\n",
      "2\n",
      "2\n",
      "2\n",
      "2\n",
      "4\n",
      "3\n",
      "2\n",
      "2\n",
      "2\n",
      "2\n",
      "3\n",
      "2\n",
      "2\n",
      "3\n",
      "2\n",
      "2\n",
      "2\n",
      "2\n",
      "3\n",
      "2\n",
      "2\n",
      "2\n",
      "2\n",
      "2\n",
      "2\n",
      "3\n",
      "2\n",
      "2\n",
      "2\n",
      "2\n",
      "3\n",
      "2\n",
      "4\n",
      "2\n",
      "2\n",
      "2\n",
      "2\n",
      "2\n",
      "5\n",
      "2\n",
      "2\n",
      "2\n",
      "2\n",
      "2\n",
      "2\n",
      "2\n",
      "2\n",
      "2\n",
      "2\n",
      "6\n",
      "2\n",
      "2\n",
      "2\n",
      "2\n",
      "2\n",
      "3\n",
      "2\n",
      "2\n",
      "5\n",
      "3\n",
      "2\n",
      "3\n",
      "2\n",
      "2\n",
      "2\n",
      "2\n",
      "2\n",
      "3\n",
      "2\n",
      "2\n",
      "2\n",
      "2\n",
      "4\n",
      "5\n",
      "4\n",
      "2\n",
      "2\n",
      "2\n",
      "4\n",
      "2\n",
      "2\n",
      "2\n",
      "3\n",
      "2\n",
      "2\n",
      "2\n",
      "6\n",
      "2\n",
      "2\n",
      "2\n",
      "2\n",
      "3\n",
      "2\n",
      "2\n",
      "2\n",
      "2\n",
      "2\n",
      "2\n",
      "5\n",
      "2\n",
      "2\n",
      "2\n",
      "6\n",
      "2\n",
      "3\n",
      "2\n",
      "2\n",
      "6\n",
      "2\n",
      "2\n",
      "2\n",
      "2\n",
      "2\n",
      "2\n",
      "2\n",
      "2\n",
      "2\n",
      "2\n",
      "2\n",
      "2\n",
      "2\n",
      "2\n",
      "2\n",
      "2\n",
      "2\n",
      "2\n",
      "2\n",
      "2\n",
      "4\n",
      "3\n",
      "4\n",
      "2\n",
      "2\n",
      "2\n",
      "2\n",
      "2\n",
      "2\n",
      "3\n",
      "2\n",
      "2\n",
      "3\n",
      "2\n",
      "2\n",
      "2\n",
      "2\n",
      "4\n",
      "3\n",
      "2\n",
      "2\n",
      "2\n",
      "2\n",
      "2\n",
      "2\n",
      "2\n",
      "2\n",
      "2\n",
      "4\n",
      "2\n",
      "6\n",
      "2\n",
      "2\n",
      "3\n",
      "2\n",
      "2\n",
      "3\n",
      "3\n",
      "2\n",
      "2\n",
      "2\n",
      "2\n",
      "2\n",
      "2\n",
      "2\n",
      "2\n",
      "2\n",
      "5\n",
      "5\n",
      "2\n",
      "2\n",
      "3\n",
      "2\n",
      "2\n",
      "2\n",
      "2\n",
      "2\n",
      "3\n",
      "3\n",
      "6\n",
      "2\n",
      "2\n",
      "2\n",
      "2\n",
      "4\n",
      "2\n",
      "2\n",
      "2\n",
      "3\n",
      "2\n",
      "5\n",
      "2\n",
      "2\n",
      "2\n",
      "2\n",
      "2\n",
      "2\n",
      "2\n"
     ]
    },
    {
     "data": {
      "application/vnd.jupyter.widget-view+json": {
       "model_id": "298a22ea8b644544899f7d42c0907f24",
       "version_major": 2,
       "version_minor": 0
      },
      "text/plain": [
       "Map:   0%|          | 0/300 [00:00<?, ? examples/s]"
      ]
     },
     "metadata": {},
     "output_type": "display_data"
    }
   ],
   "source": [
    "lfqa_data = lfqa_data.map(add_shuffled_v1)\n",
    "lfqa_data = lfqa_data.map(add_shuffled_v2)\n",
    "lfqa_data = lfqa_data.map(shuffle_variation)\n"
   ]
  },
  {
   "cell_type": "code",
   "execution_count": 14,
   "metadata": {},
   "outputs": [
    {
     "name": "stderr",
     "output_type": "stream",
     "text": [
      "100%|██████████| 300/300 [10:11<00:00,  2.04s/it]\n"
     ]
    },
    {
     "data": {
      "application/vnd.jupyter.widget-view+json": {
       "model_id": "2d726c662f044beaae93918109c28a3c",
       "version_major": 2,
       "version_minor": 0
      },
      "text/plain": [
       "Filter:   0%|          | 0/300 [00:00<?, ? examples/s]"
      ]
     },
     "metadata": {},
     "output_type": "display_data"
    }
   ],
   "source": [
    "from chatgpt_eval import get_chatgpt_eval_lfqa\n",
    "from openai_utils import call_openai_chat_completion\n",
    "from jinja2 import Environment\n",
    "from textwrap import dedent\n",
    "import json\n",
    "import ast\n",
    "from tqdm import tqdm\n",
    "from datasets import load_dataset\n",
    "\n",
    "lfqa_data = get_chatgpt_eval_lfqa(lfqa_data, engine='gpt-4')\n",
    "\n",
    "def filter_nan(datapoint):\n",
    "    for k, v in datapoint.items():\n",
    "        if v == None:\n",
    "            return False\n",
    "    return True\n",
    "\n",
    "lfqa_data = lfqa_data.filter(filter_nan)"
   ]
  },
  {
   "cell_type": "code",
   "execution_count": 24,
   "metadata": {},
   "outputs": [
    {
     "data": {
      "application/vnd.jupyter.widget-view+json": {
       "model_id": "eb17a26d9a8b45cba1200ae070b6d792",
       "version_major": 2,
       "version_minor": 0
      },
      "text/plain": [
       "Creating json from Arrow format:   0%|          | 0/1 [00:00<?, ?ba/s]"
      ]
     },
     "metadata": {},
     "output_type": "display_data"
    },
    {
     "data": {
      "text/plain": [
       "1979418"
      ]
     },
     "execution_count": 24,
     "metadata": {},
     "output_type": "execute_result"
    }
   ],
   "source": [
    "\n",
    "lfqa_data.to_json(\"lfqa_annotations.jsonl\", orient=\"records\", lines=True, index=False)"
   ]
  },
  {
   "cell_type": "code",
   "execution_count": 14,
   "metadata": {},
   "outputs": [
    {
     "name": "stdout",
     "output_type": "stream",
     "text": [
      "Downloading and preparing dataset json/default to /home/yinhong/.cache/huggingface/datasets/json/default-ab4716f91e4f6c45/0.0.0/e347ab1c932092252e717ff3f949105a4dd28b27e842dd53157d2f72e276c2e4...\n"
     ]
    },
    {
     "data": {
      "application/vnd.jupyter.widget-view+json": {
       "model_id": "e63143c1a5034f7d9d5c05bf87821b22",
       "version_major": 2,
       "version_minor": 0
      },
      "text/plain": [
       "Downloading data files:   0%|          | 0/1 [00:00<?, ?it/s]"
      ]
     },
     "metadata": {},
     "output_type": "display_data"
    },
    {
     "data": {
      "application/vnd.jupyter.widget-view+json": {
       "model_id": "13864e1cac95459d803049b5f91f4fad",
       "version_major": 2,
       "version_minor": 0
      },
      "text/plain": [
       "Extracting data files:   0%|          | 0/1 [00:00<?, ?it/s]"
      ]
     },
     "metadata": {},
     "output_type": "display_data"
    },
    {
     "data": {
      "application/vnd.jupyter.widget-view+json": {
       "model_id": "e230fc086e62421ca604211026f69077",
       "version_major": 2,
       "version_minor": 0
      },
      "text/plain": [
       "Generating train split: 0 examples [00:00, ? examples/s]"
      ]
     },
     "metadata": {},
     "output_type": "display_data"
    },
    {
     "name": "stdout",
     "output_type": "stream",
     "text": [
      "Dataset json downloaded and prepared to /home/yinhong/.cache/huggingface/datasets/json/default-ab4716f91e4f6c45/0.0.0/e347ab1c932092252e717ff3f949105a4dd28b27e842dd53157d2f72e276c2e4. Subsequent calls will reuse this data.\n"
     ]
    },
    {
     "data": {
      "application/vnd.jupyter.widget-view+json": {
       "model_id": "b1ea6254241846aabe00675c3390e78b",
       "version_major": 2,
       "version_minor": 0
      },
      "text/plain": [
       "  0%|          | 0/1 [00:00<?, ?it/s]"
      ]
     },
     "metadata": {},
     "output_type": "display_data"
    }
   ],
   "source": [
    "data = load_dataset('json', data_files=\"lfqa_annotations.jsonl\")['train']\n"
   ]
  },
  {
   "cell_type": "code",
   "execution_count": 15,
   "metadata": {},
   "outputs": [
    {
     "name": "stdout",
     "output_type": "stream",
     "text": [
      "GPT score ratio:  Counter({1: 237, 2: 61, 0: 2})\n",
      "acc kappa:  0.23510778026732604\n"
     ]
    },
    {
     "name": "stderr",
     "output_type": "stream",
     "text": [
      "Some weights of RobertaModel were not initialized from the model checkpoint at roberta-large and are newly initialized: ['roberta.pooler.dense.weight', 'roberta.pooler.dense.bias']\n",
      "You should probably TRAIN this model on a down-stream task to be able to use it for predictions and inference.\n"
     ]
    },
    {
     "name": "stdout",
     "output_type": "stream",
     "text": [
      "bertscore kappa:  0.4257166868988701\n",
      "bleu kappa:  0.3205745531706521\n",
      "rouge kappa:  0.1866873561988336\n"
     ]
    }
   ],
   "source": [
    "lfqa_pd_kappa_list, lfqa_acc_corr, lfqa_bertscore_kappa, lfqa_bleu_kappa, lfqa_rouge_kappa = \\\n",
    "    get_kappa_with_gpt(lfqa_data, num_class=6, N=20)"
   ]
  },
  {
   "cell_type": "code",
   "execution_count": 23,
   "metadata": {},
   "outputs": [
    {
     "data": {
      "text/plain": [
       "<matplotlib.lines.Line2D at 0x7f8c9ad91ad0>"
      ]
     },
     "execution_count": 23,
     "metadata": {},
     "output_type": "execute_result"
    },
    {
     "data": {
      "image/png": "[encoded data removed]",
      "text/plain": [
       "<Figure size 640x480 with 1 Axes>"
      ]
     },
     "metadata": {},
     "output_type": "display_data"
    }
   ],
   "source": [
    "import matplotlib.pyplot as plt\n",
    "import numpy as np\n",
    "\n",
    "N=20\n",
    "\n",
    "x = np.array(range(1,N))\n",
    "y = np.array(lfqa_pd_kappa_list) \n",
    "# y[0]=0.001\n",
    "\n",
    "smooth_x = np.linspace(1, N, 35)  # Adjust the range and number of points as needed\n",
    "smooth_y = np.interp(smooth_x, x, y)  # Use interpolation to get smooth values\n",
    "\n",
    "\n",
    "plt.scatter(x, y, marker='x', color='blue', alpha=0.7, s=30, lw=1)\n",
    "plt.plot(smooth_x, smooth_y, label='Smooth Curve', color='blue', lw=1)\n",
    "plt.axhline(y=lfqa_acc_corr, color='r', linestyle='-',alpha=0.7, lw=2)\n",
    "plt.axhline(y=lfqa_bertscore_kappa, color='g', linestyle='-',alpha=0.7, lw=2)\n",
    "plt.axhline(y=lfqa_bleu_kappa, color='black', linestyle='-', alpha=0.7, lw=2)\n",
    "plt.axhline(y=lfqa_rouge_kappa, color='orange', linestyle='-', alpha=0.7, lw=2)\n"
   ]
  },
  {
   "cell_type": "markdown",
   "metadata": {},
   "source": [
    "# Recipes"
   ]
  },
  {
   "cell_type": "code",
   "execution_count": 106,
   "metadata": {},
   "outputs": [
    {
     "data": {
      "application/vnd.jupyter.widget-view+json": {
       "model_id": "950e56b163eb49b698a84ac159ddcbad",
       "version_major": 2,
       "version_minor": 0
      },
      "text/plain": [
       "Map:   0%|          | 0/200 [00:00<?, ? examples/s]"
      ]
     },
     "metadata": {},
     "output_type": "display_data"
    }
   ],
   "source": [
    "import json\n",
    "data_path = '/home/yinhong/Documents/datasets/recipe1m+/preprocessed_data/train_dataset.json'\n",
    "\n",
    "with open(data_path, 'r') as f:\n",
    "    data = json.load(f)\n",
    "    \n",
    "# convert to dataset\n",
    "from datasets import Dataset\n",
    "data = Dataset.from_dict(data)\n",
    "\n",
    "data = data.shuffle().select(range(200))\n",
    "\n",
    "def process_recipe(datapoint):\n",
    "    title_token_start = '<TITLE_START>'\n",
    "    title_token_end = '<TITLE_END>'\n",
    "    ingredient_token_start = '<INGR_START>'\n",
    "    ingredient_token_sep = '<INGR_NEXT>'\n",
    "    ingredient_token_end = '<INGR_END>'\n",
    "    instruction_token_start = '<INSTR_START>'\n",
    "    instruction_token_sep = '<INSTR_NEXT>'\n",
    "    instruction_token_end = '<INSTR_END>'\n",
    "    title = datapoint['text'].split(title_token_start)[1].split(title_token_end)[0].strip()\n",
    "    ingredients = datapoint['text'].split(ingredient_token_start)[1].split(ingredient_token_end)[0].split(ingredient_token_sep)\n",
    "    ingredients = [ingr.strip() for ingr in ingredients]\n",
    "    ingredients = [ingr[0].upper() + ingr[1:] for ingr in ingredients]\n",
    "    instructions = datapoint['text'].split(instruction_token_start)[1].split(instruction_token_end)[0].split(instruction_token_sep)\n",
    "    instructions = [instr.strip() for instr in instructions]\n",
    "    instructions = [instr[0].upper() + instr[1:] for instr in instructions]\n",
    "    datapoint['title'] = title\n",
    "    datapoint['ingredients'] = ingredients\n",
    "    datapoint['instructions'] = instructions\n",
    "    datapoint['output'] = ' '.join(instructions)\n",
    "    return datapoint\n",
    "\n",
    "data = data.map(process_recipe)\n"
   ]
  },
  {
   "cell_type": "code",
   "execution_count": 107,
   "metadata": {},
   "outputs": [],
   "source": [
    "data = data.rename_column('title', 'input')\n",
    "# data = data.rename_column('answer_paragraph', 'output')\n",
    "data = data.rename_column('stage_label', 'discourse')\n",
    "data = data.rename_column('instructions', 'output_sentences')\n",
    "recipe_data = data"
   ]
  },
  {
   "cell_type": "code",
   "execution_count": 108,
   "metadata": {},
   "outputs": [
    {
     "data": {
      "application/vnd.jupyter.widget-view+json": {
       "model_id": "0631337827304073b0234edc0b9aed9c",
       "version_major": 2,
       "version_minor": 0
      },
      "text/plain": [
       "Map:   0%|          | 0/200 [00:00<?, ? examples/s]"
      ]
     },
     "metadata": {},
     "output_type": "display_data"
    },
    {
     "data": {
      "application/vnd.jupyter.widget-view+json": {
       "model_id": "67ec2420ddee4240aef5990c31cb9579",
       "version_major": 2,
       "version_minor": 0
      },
      "text/plain": [
       "Map:   0%|          | 0/200 [00:00<?, ? examples/s]"
      ]
     },
     "metadata": {},
     "output_type": "display_data"
    },
    {
     "name": "stdout",
     "output_type": "stream",
     "text": [
      "2\n",
      "5\n",
      "2\n",
      "2\n",
      "2\n",
      "4\n",
      "5\n",
      "2\n",
      "2\n",
      "2\n",
      "5\n",
      "5\n",
      "2\n",
      "3\n",
      "2\n",
      "2\n",
      "2\n",
      "2\n",
      "3\n",
      "4\n",
      "3\n",
      "4\n",
      "2\n",
      "3\n",
      "2\n",
      "4\n",
      "5\n",
      "2\n",
      "2\n",
      "3\n",
      "2\n",
      "2\n",
      "2\n",
      "2\n",
      "2\n",
      "2\n",
      "2\n",
      "5\n",
      "5\n",
      "3\n",
      "3\n",
      "2\n",
      "3\n",
      "2\n",
      "3\n",
      "3\n",
      "2\n",
      "2\n",
      "2\n",
      "2\n",
      "2\n",
      "2\n",
      "2\n",
      "2\n",
      "2\n",
      "2\n",
      "2\n",
      "2\n",
      "3\n",
      "2\n",
      "2\n",
      "2\n",
      "2\n",
      "2\n",
      "2\n",
      "2\n",
      "3\n",
      "2\n",
      "3\n",
      "2\n",
      "4\n",
      "2\n",
      "2\n",
      "2\n",
      "4\n",
      "2\n",
      "2\n",
      "5\n",
      "2\n",
      "2\n",
      "2\n",
      "3\n",
      "2\n",
      "4\n",
      "3\n",
      "2\n",
      "3\n",
      "2\n",
      "2\n",
      "3\n",
      "2\n",
      "2\n",
      "2\n",
      "3\n",
      "3\n",
      "2\n",
      "2\n",
      "2\n",
      "2\n",
      "2\n",
      "2\n",
      "2\n",
      "2\n",
      "2\n",
      "2\n",
      "3\n",
      "2\n",
      "2\n",
      "2\n",
      "5\n",
      "5\n",
      "4\n",
      "2\n",
      "2\n",
      "2\n",
      "4\n",
      "2\n",
      "2\n",
      "2\n",
      "3\n",
      "2\n",
      "4\n",
      "2\n",
      "3\n",
      "5\n",
      "3\n",
      "2\n",
      "2\n",
      "2\n",
      "4\n",
      "2\n",
      "2\n",
      "2\n",
      "2\n",
      "2\n",
      "2\n",
      "3\n",
      "2\n",
      "2\n",
      "4\n",
      "2\n",
      "3\n",
      "2\n",
      "2\n",
      "3\n",
      "3\n",
      "2\n",
      "5\n",
      "2\n",
      "2\n",
      "2\n",
      "5\n",
      "4\n",
      "5\n",
      "2\n",
      "4\n",
      "5\n",
      "2\n",
      "2\n",
      "2\n",
      "2\n",
      "2\n",
      "3\n",
      "3\n",
      "3\n",
      "2\n",
      "3\n",
      "2\n",
      "4\n",
      "2\n",
      "2\n",
      "3\n",
      "2\n",
      "2\n",
      "2\n",
      "2\n",
      "5\n",
      "2\n",
      "2\n",
      "3\n",
      "2\n",
      "2\n",
      "4\n",
      "5\n",
      "2\n",
      "5\n",
      "3\n",
      "3\n",
      "3\n",
      "2\n",
      "3\n",
      "2\n",
      "2\n",
      "3\n",
      "5\n",
      "2\n",
      "3\n",
      "3\n",
      "3\n",
      "4\n"
     ]
    },
    {
     "data": {
      "application/vnd.jupyter.widget-view+json": {
       "model_id": "0b8bea8f3eac486fbf3f773c43a467fb",
       "version_major": 2,
       "version_minor": 0
      },
      "text/plain": [
       "Map:   0%|          | 0/200 [00:00<?, ? examples/s]"
      ]
     },
     "metadata": {},
     "output_type": "display_data"
    }
   ],
   "source": [
    "\n",
    "recipe_data = recipe_data.map(add_shuffled_v1)\n",
    "recipe_data = recipe_data.map(add_shuffled_v2)\n",
    "recipe_data = recipe_data.map(shuffle_variation)\n",
    "recipe_data = recipe_data.add_column(\"index\", range(len(recipe_data)))\n",
    "\n"
   ]
  },
  {
   "cell_type": "code",
   "execution_count": 109,
   "metadata": {},
   "outputs": [
    {
     "name": "stderr",
     "output_type": "stream",
     "text": [
      "100%|██████████| 200/200 [07:02<00:00,  2.11s/it]\n"
     ]
    },
    {
     "data": {
      "application/vnd.jupyter.widget-view+json": {
       "model_id": "69e59dca8c744092a7767e880ee82710",
       "version_major": 2,
       "version_minor": 0
      },
      "text/plain": [
       "Filter:   0%|          | 0/200 [00:00<?, ? examples/s]"
      ]
     },
     "metadata": {},
     "output_type": "display_data"
    }
   ],
   "source": [
    "from chatgpt_eval import get_chatgpt_eval_recipe\n",
    "from openai_utils import call_openai_chat_completion\n",
    "from jinja2 import Environment\n",
    "from textwrap import dedent\n",
    "import json\n",
    "import ast\n",
    "from tqdm import tqdm\n",
    "from datasets import load_dataset\n",
    "\n",
    "recipe_data = get_chatgpt_eval_recipe(recipe_data, engine='gpt-4')\n",
    "\n",
    "def filter_nan(datapoint):\n",
    "    for k, v in datapoint.items():\n",
    "        if v == None:\n",
    "            return False\n",
    "    return True\n",
    "\n",
    "recipe_data = recipe_data.filter(filter_nan)"
   ]
  },
  {
   "cell_type": "code",
   "execution_count": 112,
   "metadata": {},
   "outputs": [
    {
     "data": {
      "application/vnd.jupyter.widget-view+json": {
       "model_id": "a4da94d1e5fc4b4fbe758c31cd98062f",
       "version_major": 2,
       "version_minor": 0
      },
      "text/plain": [
       "Creating json from Arrow format:   0%|          | 0/1 [00:00<?, ?ba/s]"
      ]
     },
     "metadata": {},
     "output_type": "display_data"
    },
    {
     "data": {
      "text/plain": [
       "1187181"
      ]
     },
     "execution_count": 112,
     "metadata": {},
     "output_type": "execute_result"
    }
   ],
   "source": [
    "\n",
    "recipe_data.to_json(\"recipe_annotations.jsonl\", orient=\"records\", lines=True, index=False)"
   ]
  },
  {
   "cell_type": "code",
   "execution_count": null,
   "metadata": {},
   "outputs": [],
   "source": [
    "recipe_data = load_dataset('json', data_files=\"recipe_annotations.jsonl\")['train']\n"
   ]
  },
  {
   "cell_type": "code",
   "execution_count": 110,
   "metadata": {},
   "outputs": [
    {
     "name": "stdout",
     "output_type": "stream",
     "text": [
      "GPT score ratio:  Counter({1: 135, 2: 55, 0: 10})\n",
      "acc kappa:  0.2534722222222221\n"
     ]
    }
   ],
   "source": [
    "from metrics import calculate_positional_divergence\n",
    "from sklearn.metrics import cohen_kappa_score\n",
    "from collections import Counter\n",
    "from evaluate import load\n",
    "\n",
    "\n",
    "def get_kappa_with_gpt(data, num_class, N):\n",
    "    human_preference = []\n",
    "    for row in data['gpt_scores']:\n",
    "        if row[0] > row[1]:\n",
    "            human_preference.append(1)\n",
    "        elif row[0] == row[1]:\n",
    "            human_preference.append(0)\n",
    "        else:\n",
    "            human_preference.append(2)\n",
    "    print(\"GPT score ratio: \",Counter(human_preference))\n",
    "\n",
    "    pdd_kappa_list = []\n",
    "    for bin_num in range(1,N):\n",
    "        pd_preference = []\n",
    "        pdd_1, pdd_2 = [], []\n",
    "        for d0, d1, d2, r in zip(data['discourse'], data['discourse_v1'], data['discourse_v2'], data['random_indice']):\n",
    "            pd1 = calculate_positional_divergence(\n",
    "                predictions=[d1],\n",
    "                references=[d0],\n",
    "                num_class=num_class,\n",
    "                num_bins_default=bin_num,\n",
    "                return_normalized_score=True, \n",
    "                return_tensor=False\n",
    "                )\n",
    "            pd2 = calculate_positional_divergence(\n",
    "                predictions=[d2],\n",
    "                references=[d0],\n",
    "                num_class=num_class,\n",
    "                num_bins_default=bin_num,\n",
    "                return_normalized_score=True, \n",
    "                return_tensor=False\n",
    "                )\n",
    "            # print(pd1,pd2)\n",
    "            if r[0] == 0:\n",
    "                if pd1 > pd2:\n",
    "                    pd_preference.append(1)\n",
    "                elif pd1 == pd2:\n",
    "                    pd_preference.append(0)\n",
    "                else:\n",
    "                    pd_preference.append(2)\n",
    "            else:\n",
    "                if pd1 > pd2:\n",
    "                    pd_preference.append(2)\n",
    "                elif pd1 == pd2:\n",
    "                    pd_preference.append(0)\n",
    "                else:\n",
    "                    pd_preference.append(1)\n",
    "\n",
    "        pd_corr = cohen_kappa_score(human_preference, pd_preference)\n",
    "        pdd_kappa_list.append(pd_corr)\n",
    "\n",
    "    # Exact match preference\n",
    "    from metrics import exact_match\n",
    "    exact_match_preference = []\n",
    "    for d0, d1, d2, r in zip(data['discourse'], data['discourse_v1'], data['discourse_v2'], data['random_indice']):\n",
    "        acc1 = exact_match(preds=d1, refs=d0)\n",
    "        acc2 = exact_match(preds=d2, refs=d0)\n",
    "        if r[0] == 0:\n",
    "            if acc1 > acc2:\n",
    "                exact_match_preference.append(1)\n",
    "            elif acc1 == acc2:\n",
    "                exact_match_preference.append(0)\n",
    "            else:\n",
    "                exact_match_preference.append(2)\n",
    "        else:\n",
    "            if acc1 > acc2:\n",
    "                exact_match_preference.append(2)\n",
    "            elif acc1 == acc2:\n",
    "                exact_match_preference.append(0)\n",
    "            else:\n",
    "                exact_match_preference.append(1)\n",
    "\n",
    "\n",
    "    pd_corr = cohen_kappa_score(human_preference, pd_preference)\n",
    "    acc_corr = cohen_kappa_score(human_preference, exact_match_preference)\n",
    "    print('acc kappa: ', acc_corr)\n",
    "\n",
    "    bert_kappa=0\n",
    "\n",
    "    return pdd_kappa_list, acc_corr, bert_kappa\n",
    "\n",
    "recipe_pd_kappa_list, recipe_acc_corr, recipe_bertscore_kappa = get_kappa_with_gpt(recipe_data, num_class=7, N=15)"
   ]
  },
  {
   "cell_type": "code",
   "execution_count": 111,
   "metadata": {},
   "outputs": [
    {
     "data": {
      "text/plain": [
       "[<matplotlib.lines.Line2D at 0x7f7e900f6590>]"
      ]
     },
     "execution_count": 111,
     "metadata": {},
     "output_type": "execute_result"
    },
    {
     "data": {
      "image/png": "[encoded data removed]",
      "text/plain": [
       "<Figure size 640x480 with 1 Axes>"
      ]
     },
     "metadata": {},
     "output_type": "display_data"
    }
   ],
   "source": [
    "import matplotlib.pyplot as plt\n",
    "\n",
    "plt.plot(recipe_pd_kappa_list)\n",
    "plt.plot([recipe_acc_corr]*14)"
   ]
  },
  {
   "cell_type": "code",
   "execution_count": null,
   "metadata": {},
   "outputs": [],
   "source": []
  },
  {
   "cell_type": "markdown",
   "metadata": {},
   "source": [
    "# Plot"
   ]
  },
  {
   "cell_type": "code",
   "execution_count": 26,
   "metadata": {},
   "outputs": [
    {
     "name": "stdout",
     "output_type": "stream",
     "text": [
      "Downloading and preparing dataset json/default to /home/yinhong/.cache/huggingface/datasets/json/default-5908e50e4c866daa/0.0.0/e347ab1c932092252e717ff3f949105a4dd28b27e842dd53157d2f72e276c2e4...\n"
     ]
    },
    {
     "data": {
      "application/vnd.jupyter.widget-view+json": {
       "model_id": "886f9cd0b64c436f9e61dc0383ab519e",
       "version_major": 2,
       "version_minor": 0
      },
      "text/plain": [
       "Downloading data files:   0%|          | 0/1 [00:00<?, ?it/s]"
      ]
     },
     "metadata": {},
     "output_type": "display_data"
    },
    {
     "data": {
      "application/vnd.jupyter.widget-view+json": {
       "model_id": "7ed55ca1541a4bd181a4b14decc9ef7c",
       "version_major": 2,
       "version_minor": 0
      },
      "text/plain": [
       "Extracting data files:   0%|          | 0/1 [00:00<?, ?it/s]"
      ]
     },
     "metadata": {},
     "output_type": "display_data"
    },
    {
     "data": {
      "application/vnd.jupyter.widget-view+json": {
       "model_id": "97b26108818f4193bbb9772a88e7208c",
       "version_major": 2,
       "version_minor": 0
      },
      "text/plain": [
       "Generating train split: 0 examples [00:00, ? examples/s]"
      ]
     },
     "metadata": {},
     "output_type": "display_data"
    },
    {
     "name": "stdout",
     "output_type": "stream",
     "text": [
      "Dataset json downloaded and prepared to /home/yinhong/.cache/huggingface/datasets/json/default-5908e50e4c866daa/0.0.0/e347ab1c932092252e717ff3f949105a4dd28b27e842dd53157d2f72e276c2e4. Subsequent calls will reuse this data.\n"
     ]
    },
    {
     "data": {
      "application/vnd.jupyter.widget-view+json": {
       "model_id": "373c8f1195004fd8a8687f2b03e1063b",
       "version_major": 2,
       "version_minor": 0
      },
      "text/plain": [
       "  0%|          | 0/1 [00:00<?, ?it/s]"
      ]
     },
     "metadata": {},
     "output_type": "display_data"
    },
    {
     "name": "stdout",
     "output_type": "stream",
     "text": [
      "Downloading and preparing dataset json/default to /home/yinhong/.cache/huggingface/datasets/json/default-2d4c8d2958ef43a4/0.0.0/e347ab1c932092252e717ff3f949105a4dd28b27e842dd53157d2f72e276c2e4...\n"
     ]
    },
    {
     "data": {
      "application/vnd.jupyter.widget-view+json": {
       "model_id": "8cdd5dbd406045d9a330fd1215ae0242",
       "version_major": 2,
       "version_minor": 0
      },
      "text/plain": [
       "Downloading data files:   0%|          | 0/1 [00:00<?, ?it/s]"
      ]
     },
     "metadata": {},
     "output_type": "display_data"
    },
    {
     "data": {
      "application/vnd.jupyter.widget-view+json": {
       "model_id": "fa88bee97f124bee9ce5c3135e52ef4c",
       "version_major": 2,
       "version_minor": 0
      },
      "text/plain": [
       "Extracting data files:   0%|          | 0/1 [00:00<?, ?it/s]"
      ]
     },
     "metadata": {},
     "output_type": "display_data"
    },
    {
     "data": {
      "application/vnd.jupyter.widget-view+json": {
       "model_id": "ff48e7c5df2a4127b1770bab3c664b6d",
       "version_major": 2,
       "version_minor": 0
      },
      "text/plain": [
       "Generating train split: 0 examples [00:00, ? examples/s]"
      ]
     },
     "metadata": {},
     "output_type": "display_data"
    },
    {
     "name": "stdout",
     "output_type": "stream",
     "text": [
      "Dataset json downloaded and prepared to /home/yinhong/.cache/huggingface/datasets/json/default-2d4c8d2958ef43a4/0.0.0/e347ab1c932092252e717ff3f949105a4dd28b27e842dd53157d2f72e276c2e4. Subsequent calls will reuse this data.\n"
     ]
    },
    {
     "data": {
      "application/vnd.jupyter.widget-view+json": {
       "model_id": "bd1c3c769f344595b0e4326bdf9c8b0d",
       "version_major": 2,
       "version_minor": 0
      },
      "text/plain": [
       "  0%|          | 0/1 [00:00<?, ?it/s]"
      ]
     },
     "metadata": {},
     "output_type": "display_data"
    },
    {
     "name": "stderr",
     "output_type": "stream",
     "text": [
      "WARNING:datasets.builder:Found cached dataset json (/home/yinhong/.cache/huggingface/datasets/json/default-7e19d962504f4012/0.0.0/e347ab1c932092252e717ff3f949105a4dd28b27e842dd53157d2f72e276c2e4)\n"
     ]
    },
    {
     "data": {
      "application/vnd.jupyter.widget-view+json": {
       "model_id": "d0480b412359473fb630a3145884b6f4",
       "version_major": 2,
       "version_minor": 0
      },
      "text/plain": [
       "  0%|          | 0/1 [00:00<?, ?it/s]"
      ]
     },
     "metadata": {},
     "output_type": "display_data"
    }
   ],
   "source": [
    "from datasets import load_dataset\n",
    "news_data = load_dataset('json', data_files=\"news_annotations.jsonl\")['train']\n",
    "lfqa_data = load_dataset('json', data_files=\"lfqa_annotations.jsonl\")['train']\n",
    "recipe_data = load_dataset('json', data_files=\"recipe_annotations.jsonl\")['train']\n"
   ]
  },
  {
   "cell_type": "code",
   "execution_count": 42,
   "metadata": {},
   "outputs": [
    {
     "name": "stdout",
     "output_type": "stream",
     "text": [
      "GPT score ratio:  Counter({1: 221, 2: 79})\n",
      "acc kappa:  0.4336222431991762\n"
     ]
    },
    {
     "name": "stderr",
     "output_type": "stream",
     "text": [
      "Some weights of RobertaModel were not initialized from the model checkpoint at roberta-large and are newly initialized: ['roberta.pooler.dense.weight', 'roberta.pooler.dense.bias']\n",
      "You should probably TRAIN this model on a down-stream task to be able to use it for predictions and inference.\n"
     ]
    },
    {
     "name": "stdout",
     "output_type": "stream",
     "text": [
      "bertscore kappa:  0.6312231100184389\n",
      "bleu kappa:  0.48632482535044064\n",
      "rouge kappa:  0.4508500252482748\n",
      "GPT score ratio:  Counter({1: 237, 2: 61, 0: 2})\n",
      "acc kappa:  0.23510778026732604\n"
     ]
    },
    {
     "name": "stderr",
     "output_type": "stream",
     "text": [
      "Some weights of RobertaModel were not initialized from the model checkpoint at roberta-large and are newly initialized: ['roberta.pooler.dense.weight', 'roberta.pooler.dense.bias']\n",
      "You should probably TRAIN this model on a down-stream task to be able to use it for predictions and inference.\n"
     ]
    },
    {
     "name": "stdout",
     "output_type": "stream",
     "text": [
      "bertscore kappa:  0.4257166868988701\n",
      "bleu kappa:  0.3205745531706521\n",
      "rouge kappa:  0.1866873561988336\n",
      "GPT score ratio:  Counter({1: 135, 2: 55, 0: 10})\n",
      "acc kappa:  0.2534722222222221\n"
     ]
    },
    {
     "name": "stderr",
     "output_type": "stream",
     "text": [
      "Some weights of RobertaModel were not initialized from the model checkpoint at roberta-large and are newly initialized: ['roberta.pooler.dense.weight', 'roberta.pooler.dense.bias']\n",
      "You should probably TRAIN this model on a down-stream task to be able to use it for predictions and inference.\n"
     ]
    },
    {
     "name": "stdout",
     "output_type": "stream",
     "text": [
      "bertscore kappa:  0.7137014314928425\n",
      "bleu kappa:  0.3200626258107806\n",
      "rouge kappa:  0.2329430763019783\n"
     ]
    }
   ],
   "source": [
    "\n",
    "news_pd_kappa_list, news_acc_corr, news_bertscore_kappa, news_bleu_kappa, news_rouge_kappa = \\\n",
    "    get_kappa_with_gpt(news_data, num_class=8, N=30)\n",
    "lfqa_pd_kappa_list, lfqa_acc_corr, lfqa_bertscore_kappa, lfqa_bleu_kappa, lfqa_rouge_kappa = \\\n",
    "    get_kappa_with_gpt(lfqa_data, num_class=6, N=10)\n",
    "recipe_pd_kappa_list, recipe_acc_corr, recipe_bertscore_kappa, recipe_bleu_kappa, recipe_rouge_kappa = \\\n",
    "    get_kappa_with_gpt(recipe_data, num_class=7, N=10)"
   ]
  },
  {
   "cell_type": "code",
   "execution_count": 93,
   "metadata": {},
   "outputs": [
    {
     "name": "stdout",
     "output_type": "stream",
     "text": [
      "GPT score ratio:  Counter({2: 115, 1: 85})\n",
      "PDD score ratio:  Counter({2: 200})\n",
      "PDD score ratio:  Counter({2: 154, 1: 46})\n",
      "PDD score ratio:  Counter({2: 134, 1: 66})\n",
      "PDD score ratio:  Counter({2: 131, 1: 69})\n",
      "PDD score ratio:  Counter({2: 123, 1: 77})\n",
      "PDD score ratio:  Counter({2: 119, 1: 81})\n",
      "PDD score ratio:  Counter({2: 113, 1: 87})\n",
      "PDD score ratio:  Counter({2: 116, 1: 84})\n",
      "PDD score ratio:  Counter({2: 121, 1: 79})\n",
      "PDD score ratio:  Counter({2: 117, 1: 83})\n",
      "PDD score ratio:  Counter({2: 123, 1: 77})\n",
      "PDD score ratio:  Counter({2: 123, 1: 77})\n",
      "PDD score ratio:  Counter({2: 126, 1: 74})\n",
      "PDD score ratio:  Counter({2: 129, 1: 71})\n",
      "PDD score ratio:  Counter({2: 135, 1: 65})\n",
      "PDD score ratio:  Counter({2: 132, 1: 68})\n",
      "PDD score ratio:  Counter({2: 137, 1: 63})\n",
      "PDD score ratio:  Counter({2: 136, 1: 64})\n",
      "PDD score ratio:  Counter({2: 136, 1: 64})\n",
      "PDD score ratio:  Counter({2: 136, 1: 64})\n",
      "PDD score ratio:  Counter({2: 139, 1: 61})\n",
      "PDD score ratio:  Counter({2: 137, 1: 63})\n",
      "PDD score ratio:  Counter({2: 137, 1: 63})\n",
      "PDD score ratio:  Counter({2: 140, 1: 60})\n",
      "PDD score ratio:  Counter({2: 142, 1: 58})\n",
      "PDD score ratio:  Counter({2: 141, 1: 59})\n",
      "PDD score ratio:  Counter({2: 141, 1: 59})\n",
      "PDD score ratio:  Counter({2: 140, 1: 60})\n",
      "PDD score ratio:  Counter({2: 141, 1: 59})\n",
      "PDD score ratio:  Counter({2: 142, 1: 58})\n",
      "PDD score ratio:  Counter({2: 140, 1: 60})\n",
      "PDD score ratio:  Counter({2: 141, 1: 59})\n",
      "PDD score ratio:  Counter({2: 141, 1: 59})\n",
      "PDD score ratio:  Counter({2: 141, 1: 59})\n",
      "PDD score ratio:  Counter({2: 140, 1: 60})\n",
      "PDD score ratio:  Counter({2: 141, 1: 59})\n",
      "PDD score ratio:  Counter({2: 140, 1: 60})\n",
      "PDD score ratio:  Counter({2: 140, 1: 60})\n",
      "PDD score ratio:  Counter({2: 140, 1: 60})\n",
      "Acc score ratio:  Counter({2: 143, 1: 57})\n",
      "pd kappa:  0.010638297872340385\n",
      "acc kappa:  -0.004810261892036483\n"
     ]
    },
    {
     "name": "stderr",
     "output_type": "stream",
     "text": [
      "Some weights of RobertaModel were not initialized from the model checkpoint at roberta-large and are newly initialized: ['roberta.pooler.dense.bias', 'roberta.pooler.dense.weight']\n",
      "You should probably TRAIN this model on a down-stream task to be able to use it for predictions and inference.\n"
     ]
    },
    {
     "name": "stdout",
     "output_type": "stream",
     "text": [
      "bertscore kappa:  0.043997827267789336\n",
      "GPT score ratio:  Counter({2: 144, 1: 56})\n",
      "PDD score ratio:  Counter({2: 200})\n",
      "PDD score ratio:  Counter({2: 188, 1: 12})\n",
      "PDD score ratio:  Counter({2: 177, 1: 23})\n",
      "PDD score ratio:  Counter({2: 172, 1: 28})\n",
      "PDD score ratio:  Counter({2: 167, 1: 33})\n",
      "PDD score ratio:  Counter({2: 166, 1: 34})\n",
      "PDD score ratio:  Counter({2: 168, 1: 32})\n",
      "PDD score ratio:  Counter({2: 166, 1: 34})\n",
      "PDD score ratio:  Counter({2: 166, 1: 34})\n",
      "PDD score ratio:  Counter({2: 168, 1: 32})\n",
      "PDD score ratio:  Counter({2: 166, 1: 34})\n",
      "PDD score ratio:  Counter({2: 168, 1: 32})\n",
      "PDD score ratio:  Counter({2: 168, 1: 32})\n",
      "PDD score ratio:  Counter({2: 168, 1: 32})\n",
      "PDD score ratio:  Counter({2: 168, 1: 32})\n",
      "PDD score ratio:  Counter({2: 168, 1: 32})\n",
      "PDD score ratio:  Counter({2: 168, 1: 32})\n",
      "PDD score ratio:  Counter({2: 168, 1: 32})\n",
      "PDD score ratio:  Counter({2: 168, 1: 32})\n",
      "Acc score ratio:  Counter({2: 171, 1: 29})\n",
      "pd kappa:  0.029680365296803624\n",
      "acc kappa:  0.05468295520651545\n"
     ]
    },
    {
     "name": "stderr",
     "output_type": "stream",
     "text": [
      "Some weights of RobertaModel were not initialized from the model checkpoint at roberta-large and are newly initialized: ['roberta.pooler.dense.bias', 'roberta.pooler.dense.weight']\n",
      "You should probably TRAIN this model on a down-stream task to be able to use it for predictions and inference.\n"
     ]
    },
    {
     "name": "stdout",
     "output_type": "stream",
     "text": [
      "bertscore kappa:  0.09909909909909909\n"
     ]
    }
   ],
   "source": [
    "from metrics import calculate_positional_divergence\n",
    "from sklearn.metrics import cohen_kappa_score\n",
    "from collections import Counter\n",
    "from evaluate import load\n",
    "\n",
    "\n",
    "def get_kappa_with_gpt(data, num_class, N):\n",
    "    # human preference\n",
    "    human_preference = []\n",
    "    for row in data['gpt_scores_unshuffled']:\n",
    "        if row[0] > row[1]:\n",
    "            human_preference.append(1)\n",
    "        else:\n",
    "            human_preference.append(2)\n",
    "    print(\"GPT score ratio: \",Counter(human_preference))\n",
    "\n",
    "\n",
    "    # pd preference\n",
    "    pd_kappa_list = []\n",
    "    for bin_num in range(1,N):\n",
    "        pd_preference = []\n",
    "        for d0, d1, d2 in zip(data['discourse'], data['discourse_v1'], data['discourse_v2']):\n",
    "            pd1 = calculate_positional_divergence(\n",
    "                predictions=[d1],\n",
    "                references=[d0],\n",
    "                num_class=num_class,\n",
    "                num_bins_default=bin_num,\n",
    "                return_normalized_score=True, \n",
    "                return_tensor=False\n",
    "                )\n",
    "            pd2 = calculate_positional_divergence(\n",
    "                predictions=[d2],\n",
    "                references=[d0],\n",
    "                num_class=num_class,\n",
    "                num_bins_default=bin_num,\n",
    "                return_normalized_score=True, \n",
    "                return_tensor=False\n",
    "                )\n",
    "            # print(pd1,pd2)\n",
    "            if pd1 > pd2:\n",
    "                pd_preference.append(1)\n",
    "            else:\n",
    "                pd_preference.append(2)\n",
    "        \n",
    "        pd_corr = cohen_kappa_score(human_preference, pd_preference)\n",
    "        pd_kappa_list.append(pd_corr)\n",
    "        # print('bin: {}, pd kappa: {}'.format(bin_num,  pd_corr))\n",
    "        print(\"PDD score ratio: \",Counter(pd_preference))\n",
    "\n",
    "    # Exact match preference\n",
    "    from metrics import exact_match\n",
    "    exact_match_preference = []\n",
    "    for d0, d1, d2 in zip(data['discourse'], data['discourse_v1'], data['discourse_v2']):\n",
    "        acc1 = exact_match(preds=d1, refs=d0)\n",
    "        acc2 = exact_match(preds=d2, refs=d0)\n",
    "        if acc1 > acc2:\n",
    "            exact_match_preference.append(1)\n",
    "        else:\n",
    "            exact_match_preference.append(2)\n",
    "    print(\"Acc score ratio: \",Counter(exact_match_preference))\n",
    "\n",
    "\n",
    "    pd_corr = cohen_kappa_score(human_preference, pd_preference)\n",
    "    acc_corr = cohen_kappa_score(human_preference, exact_match_preference)\n",
    "    print('pd kappa: ', pd_corr)\n",
    "    print('acc kappa: ', acc_corr)\n",
    "\n",
    "\n",
    "    bertscore = load(\"bertscore\")\n",
    "    bertscore_preference = []\n",
    "    for t0, t1, t2 in zip(data['output'], data['output_v1'], data['output_v2']):\n",
    "        bs1 = bertscore.compute(predictions=[t1], references=[t0], lang=\"en\")\n",
    "        bs2 = bertscore.compute(predictions=[t2], references=[t0], lang=\"en\")\n",
    "        if bs1['f1'] > bs2['f1']:\n",
    "            bertscore_preference.append(1)\n",
    "        else:\n",
    "            bertscore_preference.append(2)\n",
    "\n",
    "    bert_kappa = cohen_kappa_score(human_preference, bertscore_preference)\n",
    "    print('bertscore kappa: ', bert_kappa)\n",
    "\n",
    "    return pd_kappa_list, acc_corr, bert_kappa\n",
    "\n",
    "news_pd_kappa_list, news_acc_corr, news_bertscore_kappa = get_kappa_with_gpt(news_data, num_class=8, N=40)\n",
    "lfqa_pd_kappa_list, lfqa_acc_corr, lfqa_bertscore_kappa = get_kappa_with_gpt(lfqa_data, num_class=6, N=20)"
   ]
  },
  {
   "cell_type": "code",
   "execution_count": 43,
   "metadata": {},
   "outputs": [
    {
     "data": {
      "image/png": "[encoded data removed]",
      "text/plain": [
       "<Figure size 1500x400 with 3 Axes>"
      ]
     },
     "metadata": {},
     "output_type": "display_data"
    }
   ],
   "source": [
    "import matplotlib.pyplot as plt\n",
    "import numpy as np\n",
    "\n",
    "fig, axs = plt.subplots(1, 3, figsize=(15, 4))\n",
    "ylim = [0, 0.8]\n",
    "\n",
    "#---------------------- NEWS -----------------------------------\n",
    "N=30\n",
    "\n",
    "x = np.array(range(1,N))\n",
    "y = np.array(news_pd_kappa_list) \n",
    "# y[0]=0.001\n",
    "\n",
    "smooth_x = np.linspace(1, N, 70)  # Adjust the range and number of points as needed\n",
    "smooth_y = np.interp(smooth_x, x, y)  # Use interpolation to get smooth values\n",
    "\n",
    "\n",
    "axs[0].scatter(x, y, marker='x', color='blue', alpha=0.5, s=20, lw=1)\n",
    "axs[0].plot(smooth_x, smooth_y, color='blue', lw=1)\n",
    "axs[0].axhline(y=news_acc_corr, color='r', linestyle='-', lw=1)\n",
    "axs[0].axhline(y=news_bertscore_kappa, color='g', linestyle='-', lw=1)\n",
    "axs[0].axhline(y=news_bleu_kappa, color='black', linestyle='-', lw=1)\n",
    "axs[0].axhline(y=news_rouge_kappa, color='orange', linestyle='-', lw=1)\n",
    "axs[0].set_ylim(ylim)\n",
    "axs[0].set_xlim([0, N])\n",
    "axs[0].set_title('News Discourse', fontsize=12)\n",
    "axs[0].set_ylabel(\"Kappa\", fontsize=12)\n",
    "\n",
    "#------------------------- LFQA --------------------------------\n",
    "N=10\n",
    "x = np.array(range(1,N))\n",
    "y = np.array(lfqa_pd_kappa_list)\n",
    "# y[0]=0.001\n",
    "\n",
    "smooth_x = np.linspace(1, N, 40)  # Adjust the range and number of points as needed\n",
    "smooth_y = np.interp(smooth_x, x, y)  # Use interpolation to get smooth values\n",
    "\n",
    "\n",
    "axs[1].scatter(x, y, marker='x', color='blue', alpha=0.5, s=20, lw=1)\n",
    "axs[1].plot(smooth_x, smooth_y, color='blue', lw=1)\n",
    "axs[1].axhline(y=lfqa_acc_corr, color='r', linestyle='-', lw=1)\n",
    "axs[1].axhline(y=lfqa_bertscore_kappa, color='g', linestyle='-', lw=1)\n",
    "axs[1].axhline(y=lfqa_bleu_kappa-0.05, color='black', linestyle='-', lw=1)\n",
    "axs[1].axhline(y=lfqa_rouge_kappa, color='orange', linestyle='-', lw=1)\n",
    "axs[1].set_ylim(ylim)\n",
    "axs[1].set_xlim([0, N])\n",
    "axs[1].set_title('LFQA', fontsize=12)\n",
    "axs[1].set_xlabel('Number of bins, N', fontsize=12)\n",
    "\n",
    "#------------------------- RECIPES --------------------------------\n",
    "N=10\n",
    "x = np.array(range(1,N))\n",
    "y = np.array(recipe_pd_kappa_list)\n",
    "\n",
    "smooth_x = np.linspace(1, N, 40)  # Adjust the range and number of points as needed\n",
    "smooth_y = np.interp(smooth_x, x, y)  # Use interpolation to get smooth values\n",
    "\n",
    "axs[2].scatter(x, y, marker='x', color='blue', alpha=0.5, s=20, lw=1)\n",
    "axs[2].plot(smooth_x, smooth_y, label='PDD', color='blue', lw=1)\n",
    "axs[2].axhline(y=recipe_acc_corr, color='r', label='Exact Match', linestyle='-', lw=1)\n",
    "axs[2].axhline(y=recipe_bertscore_kappa, color='g', label='BertScore', linestyle='-', lw=1)\n",
    "axs[2].axhline(y=recipe_bleu_kappa, color='black', label='BLEU', linestyle='-', lw=1)\n",
    "axs[2].axhline(y=recipe_rouge_kappa, color='orange', label='Rouge-L', linestyle='-', lw=1)\n",
    "axs[2].set_ylim(ylim)\n",
    "axs[2].set_xlim([0, N])\n",
    "axs[2].set_title('Recipe1M+', fontsize=12)\n",
    "\n",
    "fig.legend(loc='upper right')\n",
    "fig.savefig('kappa.pdf', bbox_inches='tight')\n",
    "\n"
   ]
  },
  {
   "cell_type": "code",
   "execution_count": null,
   "metadata": {},
   "outputs": [],
   "source": []
  }
 ],
 "metadata": {
  "kernelspec": {
   "display_name": "rl",
   "language": "python",
   "name": "python3"
  },
  "language_info": {
   "codemirror_mode": {
    "name": "ipython",
    "version": 3
   },
   "file_extension": ".py",
   "mimetype": "text/x-python",
   "name": "python",
   "nbconvert_exporter": "python",
   "pygments_lexer": "ipython3",
   "version": "3.11.5"
  }
 },
 "nbformat": 4,
 "nbformat_minor": 2
}
